{
 "cells": [
  {
   "cell_type": "code",
   "execution_count": 3,
   "id": "2b8d8fba-d314-47ef-8c2b-739beb5051f0",
   "metadata": {},
   "outputs": [],
   "source": [
    "import numpy as np\n",
    "import pandas as pd"
   ]
  },
  {
   "cell_type": "markdown",
   "id": "83b1815d-2d82-4f2b-b9ec-08b6f98776c4",
   "metadata": {},
   "source": [
    "# Lab 1\n",
    "\n",
    "## Exercise 1"
   ]
  },
  {
   "cell_type": "markdown",
   "id": "9cafa8cd-eac2-4d99-9f77-d3c23f44f55d",
   "metadata": {},
   "source": [
    "## Exercise 2"
   ]
  },
  {
   "cell_type": "code",
   "execution_count": 2,
   "id": "d5b12908-712a-469d-9558-68c33417e246",
   "metadata": {},
   "outputs": [
    {
     "name": "stdout",
     "output_type": "stream",
     "text": [
      "Last updated: Sat Jan 27 2024\n",
      "\n",
      "Python implementation: CPython\n",
      "Python version       : 3.9.18\n",
      "IPython version      : 8.18.1\n",
      "\n",
      "numpy : 1.26.3\n",
      "pandas: 2.2.0\n",
      "\n",
      "Watermark: 2.4.3\n",
      "\n"
     ]
    }
   ],
   "source": [
    "%load_ext watermark\n",
    "%watermark -n -u -v -iv -w"
   ]
  },
  {
   "cell_type": "markdown",
   "id": "48b7dd95-fe35-4da4-9f60-d30594706085",
   "metadata": {},
   "source": [
    "## Exercise 3\n"
   ]
  },
  {
   "cell_type": "code",
   "execution_count": 6,
   "id": "78eaff5d-e680-4d06-9db0-be4f79b33d04",
   "metadata": {},
   "outputs": [
    {
     "data": {
      "text/plain": [
       "('hellooooo', 'catatatatat', 'excitinginginginging')"
      ]
     },
     "execution_count": 6,
     "metadata": {},
     "output_type": "execute_result"
    }
   ],
   "source": [
    "def echo(utterance):\n",
    "    # Check if the last character is a vowel\n",
    "    if utterance[-1] in \"aeiou\":\n",
    "        # Repeat the vowel\n",
    "        return utterance + utterance[-1] * 4\n",
    "    else:\n",
    "        # Find the last vowel in the word\n",
    "        for i in range(len(utterance) - 1, -1, -1):\n",
    "            if utterance[i] in \"aeiouAEIOU\":\n",
    "                # Repeat the final VC+ cluster 5 times\n",
    "                return utterance + utterance[i:] * 4\n",
    "        # If no vowel is found (which is theoretically not possible for English words), return the word as is\n",
    "        return utterance\n",
    "\n",
    "# test cases\n",
    "echo(\"hello\"), echo(\"cat\"), echo(\"exciting\")\n"
   ]
  },
  {
   "cell_type": "markdown",
   "id": "fc18f93e-48d0-4b28-8fa6-e42095a87f7a",
   "metadata": {},
   "source": [
    "## Exercise 4"
   ]
  },
  {
   "cell_type": "markdown",
   "id": "5c5c3976-bb75-41b8-a44c-f0f704d8a353",
   "metadata": {},
   "source": [
    "**Reference**\n",
    "\n",
    "- [Build a Tic-Tac-Toe Game With Python and Tkinter](https://realpython.com/tic-tac-toe-python/)"
   ]
  },
  {
   "cell_type": "code",
   "execution_count": 8,
   "id": "fd87718f-abd5-4bd5-a101-15b457f26443",
   "metadata": {},
   "outputs": [
    {
     "name": "stdout",
     "output_type": "stream",
     "text": [
      "[[None None None]\n",
      " [None None None]\n",
      " ['x' None None]]\n",
      "\n",
      "[['o' None None]\n",
      " [None None None]\n",
      " ['x' None None]]\n",
      "\n",
      "[['o' None None]\n",
      " [None 'x' None]\n",
      " ['x' None None]]\n",
      "\n",
      "Hmmm so as you know or may not know, this spot is already taken!\n",
      "\n",
      "Player x won!\n"
     ]
    }
   ],
   "source": [
    "def tic_tac_toe(board_state, player, coordinate):\n",
    "    # Place the player's marker on the board\n",
    "    if board_state[coordinate] is None:\n",
    "        board_state[coordinate] = player\n",
    "    else:\n",
    "        return \"Hmmm so as you know or may not know, this spot is already taken!\"\n",
    "\n",
    "    # Check for win conditions\n",
    "    # Rows and columns\n",
    "    for i in range(3):\n",
    "        if all(board_state[i, :] == player) or all(board_state[:, i] == player):\n",
    "            return f\"Player {player} won!\"\n",
    "    # Diagonals\n",
    "    if all(np.diag(board_state) == player) or all(np.diag(np.fliplr(board_state)) == player):\n",
    "        return f\"Player {player} won!\"\n",
    "    \n",
    "    # If we do not have win condition met, return the board state\n",
    "    return board_state\n",
    "\n",
    "# Initial board state of Nones\n",
    "board = np.full((3, 3), None)\n",
    "\n",
    "# Doing some tests here\n",
    "print(tic_tac_toe(board, 'x', (2,0)))\n",
    "print()\n",
    "print(tic_tac_toe(board, 'o', (0,0)))\n",
    "print()\n",
    "print(tic_tac_toe(board, 'x', (1,1)))\n",
    "print()\n",
    "print(tic_tac_toe(board, 'o', (1,1)))\n",
    "print()\n",
    "\n",
    "print(tic_tac_toe(board, 'x', (0,2)))\n"
   ]
  }
 ],
 "metadata": {
  "kernelspec": {
   "display_name": "Python 3 (ipykernel)",
   "language": "python",
   "name": "python3"
  },
  "language_info": {
   "codemirror_mode": {
    "name": "ipython",
    "version": 3
   },
   "file_extension": ".py",
   "mimetype": "text/x-python",
   "name": "python",
   "nbconvert_exporter": "python",
   "pygments_lexer": "ipython3",
   "version": "3.9.18"
  }
 },
 "nbformat": 4,
 "nbformat_minor": 5
}
